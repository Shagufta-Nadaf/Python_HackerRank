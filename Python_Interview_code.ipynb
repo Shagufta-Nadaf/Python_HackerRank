{
  "nbformat": 4,
  "nbformat_minor": 0,
  "metadata": {
    "colab": {
      "provenance": []
    },
    "kernelspec": {
      "name": "python3",
      "display_name": "Python 3"
    },
    "language_info": {
      "name": "python"
    }
  },
  "cells": [
    {
      "cell_type": "code",
      "execution_count": null,
      "metadata": {
        "colab": {
          "base_uri": "https://localhost:8080/"
        },
        "id": "p74OjcwMPB8Y",
        "outputId": "c038f10e-61d4-4c6e-dc2d-5d8cfa25ff46"
      },
      "outputs": [
        {
          "output_type": "stream",
          "name": "stdout",
          "text": [
            "121\n",
            "Palindrome\n"
          ]
        }
      ],
      "source": [
        "# Write a Python program to check if a string is a palindrome.\n",
        "# 121 --- rev 121 equal\n",
        "num=int(input())  #121\n",
        "temp=num          #121\n",
        "rev=0              #0\n",
        "while(num>0):     #121>0          #12>0               #1>0                  #0>0 false\n",
        "  i=num%10        #i=121%10 =1    #i=12%10=2          #1%10=1\n",
        "  rev=rev*10+i    #rev=0*10+1=1   #rev=1*10+2=12      #rev=12*10+1=121\n",
        "  num=num//10     #121//10=12     #12//10=1           #1//10=0\n",
        "if(temp==rev):\n",
        "  print(\"Palindrome\")\n",
        "else:\n",
        "  print(\"Not palindrome\")\n"
      ]
    },
    {
      "cell_type": "code",
      "source": [
        "#Write a Python program to find the factorial of a number.\n",
        "#2!=2*1=2\n",
        "num=int(input())#3\n",
        "fact=1\n",
        "for i in range(1,num+1):#1 to 3    2          3\n",
        "  fact=fact*i   #fact=1*1       =1*2=2       =2*3=6\n",
        "  #print(fact)   #1              =2           =6\n",
        "print(fact)"
      ],
      "metadata": {
        "colab": {
          "base_uri": "https://localhost:8080/"
        },
        "id": "sRbFwpg3RkwF",
        "outputId": "dd88195e-d9d9-427f-997a-7ba695d29343"
      },
      "execution_count": null,
      "outputs": [
        {
          "output_type": "stream",
          "name": "stdout",
          "text": [
            "5\n",
            "120\n"
          ]
        }
      ]
    },
    {
      "cell_type": "code",
      "source": [
        "#Write a Python program to find the largest element in a list.\n",
        "lst=[11,3,5,2,10]\n",
        "largest=0\n",
        "for lst1 in lst:\n",
        "  if lst1 > largest:\n",
        "    largest=lst1\n",
        "print(largest)"
      ],
      "metadata": {
        "colab": {
          "base_uri": "https://localhost:8080/"
        },
        "id": "m14dRQPa3WC3",
        "outputId": "2cd3600d-4f1c-4383-de40-ddd97bf082b9"
      },
      "execution_count": null,
      "outputs": [
        {
          "output_type": "stream",
          "name": "stdout",
          "text": [
            "11\n"
          ]
        }
      ]
    },
    {
      "cell_type": "code",
      "source": [
        "#Write a Python program to reverse a string.\n",
        "\n",
        "def reverse_string(str):\n",
        "    str1 = \"\"\n",
        "    for i in str:\n",
        "        str1 = i + str1\n",
        "    return str1\n",
        "\n",
        "str = \"Hello\"\n",
        "print(\"The original string is: \",str)\n",
        "print(\"The reverse string is\",reverse_string(str))"
      ],
      "metadata": {
        "colab": {
          "base_uri": "https://localhost:8080/"
        },
        "id": "Wh7aswnS5Wgl",
        "outputId": "6b5ae61b-1bbd-4719-c71f-32666c6951b8"
      },
      "execution_count": null,
      "outputs": [
        {
          "output_type": "stream",
          "name": "stdout",
          "text": [
            "The original string is:  Hello\n",
            "The reverse string is olleH\n"
          ]
        }
      ]
    },
    {
      "cell_type": "code",
      "source": [
        "#using slicing\n",
        "str = \"Hello\"\n",
        "print(\"The original string is: \",str)\n",
        "print(\"The reverse string is\",str[::-1])"
      ],
      "metadata": {
        "colab": {
          "base_uri": "https://localhost:8080/"
        },
        "id": "RmziYWuN6uzg",
        "outputId": "ca120017-86f8-4246-92de-e6d5bb1ec94f"
      },
      "execution_count": null,
      "outputs": [
        {
          "output_type": "stream",
          "name": "stdout",
          "text": [
            "The original string is:  Hello\n",
            "The reverse string is olleH\n"
          ]
        }
      ]
    },
    {
      "cell_type": "code",
      "source": [
        "https://medium.com/@nikitasilaparasetty/python-interview-coding-questions-with-solutions-for-beginners-7f6d782defac"
      ],
      "metadata": {
        "id": "1Yw6RWT36zLw"
      },
      "execution_count": null,
      "outputs": []
    },
    {
      "cell_type": "code",
      "source": [
        "#Write a Python program to count the frequency of each element in a list.\n",
        "def count_frequency(numbers):\n",
        "    frequency = {}\n",
        "    for num in numbers:\n",
        "        if num in frequency:\n",
        "            frequency[num] += 1\n",
        "        else:\n",
        "            frequency[num] = 1\n",
        "    return frequency\n",
        "\n",
        "# Test the function\n",
        "nums = [1, 2, 3, 2, 1, 3, 2, 4, 5, 4]\n",
        "frequency_count = count_frequency(nums)\n",
        "print(frequency_count)"
      ],
      "metadata": {
        "colab": {
          "base_uri": "https://localhost:8080/"
        },
        "id": "m2u14mLBlP78",
        "outputId": "97dd9551-6420-4a88-aa4c-68298603f19e"
      },
      "execution_count": null,
      "outputs": [
        {
          "output_type": "stream",
          "name": "stdout",
          "text": [
            "{1: 2, 2: 3, 3: 2, 4: 2, 5: 1}\n"
          ]
        }
      ]
    },
    {
      "cell_type": "code",
      "source": [
        "str=\"aE@14nbdb\"\n",
        "str1=\" \"\n",
        "for char in str:\n",
        "  if(char>='a' and char<='z') or (char>='A' and char<='Z') or (char>='0' and char<='9'):\n",
        "    str1=str1+char\n",
        "print(str1)\n",
        "print(str)"
      ],
      "metadata": {
        "id": "Ob1nmvTklc7l",
        "colab": {
          "base_uri": "https://localhost:8080/"
        },
        "outputId": "3092c3f4-1ebe-4d2c-d541-e4188426b2db"
      },
      "execution_count": 7,
      "outputs": [
        {
          "output_type": "stream",
          "name": "stdout",
          "text": [
            " aE14nbdb\n",
            "aE@14nbdb\n"
          ]
        }
      ]
    },
    {
      "cell_type": "code",
      "source": [],
      "metadata": {
        "id": "x241500hw5As"
      },
      "execution_count": null,
      "outputs": []
    }
  ]
}