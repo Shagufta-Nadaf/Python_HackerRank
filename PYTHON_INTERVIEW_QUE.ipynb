{
  "nbformat": 4,
  "nbformat_minor": 0,
  "metadata": {
    "colab": {
      "provenance": []
    },
    "kernelspec": {
      "name": "python3",
      "display_name": "Python 3"
    },
    "language_info": {
      "name": "python"
    }
  },
  "cells": [
    {
      "cell_type": "markdown",
      "source": [
        "https://medium.com/@nikitasilaparasetty/python-interview-coding-questions-with-solutions-for-beginners-7f6d782defac"
      ],
      "metadata": {
        "id": "yNahxMkDjXnc"
      }
    },
    {
      "cell_type": "code",
      "execution_count": 2,
      "metadata": {
        "colab": {
          "base_uri": "https://localhost:8080/"
        },
        "id": "Z6E7cr_kcXsz",
        "outputId": "6f825d69-f12a-40ed-b959-7008b0ab04c0"
      },
      "outputs": [
        {
          "output_type": "stream",
          "name": "stdout",
          "text": [
            "The strings are anagrams.\n"
          ]
        }
      ],
      "source": [
        "#anagram program\n",
        "#An anagram is a word or phrase formed by rearranging the letters of a different\n",
        "# word or phrase. For example, \"cinema\" is an anagram of \"iceman\".\n",
        "def is_anagram(str1, str2):\n",
        "  str1 = str1.lower()\n",
        "  str2 = str2.lower()\n",
        "  return sorted(str1) == sorted(str2)\n",
        "\n",
        "string1 = \"listen\"\n",
        "string2 = \"silent\"\n",
        "\n",
        "if is_anagram(string1, string2):\n",
        "  print(\"The strings are anagrams.\")\n",
        "else:\n",
        "  print(\"The strings are not anagrams.\")"
      ]
    },
    {
      "cell_type": "code",
      "source": [
        "def is_anagram(str1, str2):\n",
        "  str1 = str1.lower()\n",
        "  str2 = str2.lower()\n",
        "  if len(str1) != len(str2):\n",
        "    return False\n",
        "\n",
        "  char_count = {}\n",
        "  for char in str1:\n",
        "    char_count[char] = char_count.get(char, 0) + 1\n",
        "  for char in str2:\n",
        "    if char not in char_count or char_count[char] == 0:\n",
        "      return False\n",
        "    char_count[char] -= 1\n",
        "  return True\n",
        "\n",
        "# Get input from the user\n",
        "string1 = input(\"Enter the first string: \")\n",
        "string2 = input(\"Enter the second string: \")\n",
        "\n",
        "if is_anagram(string1, string2):\n",
        "  print(\"The strings are anagrams.\")\n",
        "else:\n",
        "  print(\"The strings are not anagrams.\")"
      ],
      "metadata": {
        "colab": {
          "base_uri": "https://localhost:8080/"
        },
        "id": "RukanWLgcwcH",
        "outputId": "bdb9f904-108d-4f53-8bc4-5146874aff8b"
      },
      "execution_count": 3,
      "outputs": [
        {
          "output_type": "stream",
          "name": "stdout",
          "text": [
            "Enter the first string: man\n",
            "Enter the second string: nam\n",
            "The strings are anagrams.\n"
          ]
        }
      ]
    },
    {
      "cell_type": "code",
      "source": [
        "#string is a palindrome\n",
        "def is_palindrome(string):\n",
        "    reversed_string = string[::-1]\n",
        "    return string == reversed_string\n",
        "\n",
        "# Test the function\n",
        "word = \"madam\"\n",
        "if is_palindrome(word):\n",
        "    print(f\"{word} is a palindrome\")\n",
        "else:\n",
        "    print(f\"{word} is not a palindrome\")"
      ],
      "metadata": {
        "id": "xl-rF8dfdzwP"
      },
      "execution_count": null,
      "outputs": []
    },
    {
      "cell_type": "code",
      "source": [
        "#number is palindrome or not?\n",
        "def is_palindrome(number):\n",
        "  num_str = str(number)\n",
        "  return num_str == num_str[::-1]\n",
        "number = int(input(\"Enter a number: \"))\n",
        "if is_palindrome(number):\n",
        "  print(\"The number is a palindrome.\")\n",
        "else:\n",
        "  print(\"The number is not a palindrome.\")\n"
      ],
      "metadata": {
        "colab": {
          "base_uri": "https://localhost:8080/"
        },
        "id": "ne2p0eMFgE6H",
        "outputId": "cdd58869-c0b1-4750-95a1-50ec4eb07c91"
      },
      "execution_count": 8,
      "outputs": [
        {
          "output_type": "stream",
          "name": "stdout",
          "text": [
            "Enter a number: 121\n",
            "The number is a palindrome.\n"
          ]
        }
      ]
    },
    {
      "cell_type": "code",
      "source": [
        "#factorial of number\n",
        "def factorial(n):\n",
        "    if n == 0:\n",
        "        return 1\n",
        "    else:\n",
        "        return n * factorial(n-1)\n",
        "\n",
        "# Test the function\n",
        "number = 5\n",
        "result = factorial(number)\n",
        "print(f\"The factorial of {number} is {result}\")"
      ],
      "metadata": {
        "colab": {
          "base_uri": "https://localhost:8080/"
        },
        "id": "UmVM8n4Fgahj",
        "outputId": "5f34dde1-615d-4683-fd2d-6ea119a48d68"
      },
      "execution_count": 9,
      "outputs": [
        {
          "output_type": "stream",
          "name": "stdout",
          "text": [
            "The factorial of 5 is 120\n"
          ]
        }
      ]
    },
    {
      "cell_type": "code",
      "source": [
        "#factorial without regression\n",
        "def factorial(n):\n",
        "    result = 1\n",
        "    for i in range(1, n+1):\n",
        "        result *= i\n",
        "    return result\n",
        "\n",
        "# Test the function\n",
        "number = 5\n",
        "result = factorial(number)\n",
        "print(f\"The factorial of {number} is {result}\")\n"
      ],
      "metadata": {
        "colab": {
          "base_uri": "https://localhost:8080/"
        },
        "id": "vrEDtgBHh0MQ",
        "outputId": "a0e262db-9241-450b-e39f-c5c90b06a480"
      },
      "execution_count": 10,
      "outputs": [
        {
          "output_type": "stream",
          "name": "stdout",
          "text": [
            "The factorial of 5 is 120\n"
          ]
        }
      ]
    },
    {
      "cell_type": "code",
      "source": [
        "#find the largest element in a list\n",
        "def find_largest(numbers):\n",
        "    largest = numbers[0]\n",
        "    for num in numbers:\n",
        "        if num > largest:\n",
        "            largest = num\n",
        "    return largest\n",
        "\n",
        "# Test the function\n",
        "nums = [10, 5, 8, 20, 3]\n",
        "largest_num = find_largest(nums)\n",
        "print(f\"The largest number is {largest_num}\")"
      ],
      "metadata": {
        "colab": {
          "base_uri": "https://localhost:8080/"
        },
        "id": "CYx6OPa9jRlz",
        "outputId": "ace2ddba-f644-4025-c5b7-7e27ca942484"
      },
      "execution_count": 11,
      "outputs": [
        {
          "output_type": "stream",
          "name": "stdout",
          "text": [
            "The largest number is 20\n"
          ]
        }
      ]
    },
    {
      "cell_type": "code",
      "source": [
        "# Python program to count the frequency of each element in a list.\n",
        "def count_frequency(numbers):\n",
        "    frequency = {}\n",
        "    for num in numbers:\n",
        "        if num in frequency:\n",
        "            frequency[num] += 1\n",
        "        else:\n",
        "            frequency[num] = 1\n",
        "    return frequency\n",
        "\n",
        "# Test the function\n",
        "nums = [1, 2, 3, 2, 1, 3, 2, 4, 5, 4]\n",
        "frequency_count = count_frequency(nums)\n",
        "print(frequency_count)"
      ],
      "metadata": {
        "colab": {
          "base_uri": "https://localhost:8080/"
        },
        "id": "AsMNDs73jwk7",
        "outputId": "6f938ec6-abde-4c23-f8cc-a3804b0843bd"
      },
      "execution_count": 12,
      "outputs": [
        {
          "output_type": "stream",
          "name": "stdout",
          "text": [
            "{1: 2, 2: 3, 3: 2, 4: 2, 5: 1}\n"
          ]
        }
      ]
    },
    {
      "cell_type": "code",
      "source": [
        "#check if a number is prime.\n",
        "def is_prime(number):\n",
        "    if number < 2:\n",
        "        return False\n",
        "    for i in range(2, int(number**0.5) + 1):\n",
        "        if number % i == 0:\n",
        "            return False\n",
        "    return True\n",
        "\n",
        "# Test the function\n",
        "num = 17\n",
        "if is_prime(num):\n",
        "    print(f\"{num} is a prime number\")\n",
        "else:\n",
        "    print(f\"{num} is not a prime number\")"
      ],
      "metadata": {
        "colab": {
          "base_uri": "https://localhost:8080/"
        },
        "id": "NAGa6o1NkZTf",
        "outputId": "c7540590-4cda-465a-c4d7-10e66b0c4d60"
      },
      "execution_count": 13,
      "outputs": [
        {
          "output_type": "stream",
          "name": "stdout",
          "text": [
            "17 is a prime number\n"
          ]
        }
      ]
    },
    {
      "cell_type": "code",
      "source": [
        "#remove duplicates from a list\n",
        "def remove_duplicates(numbers):\n",
        "    unique_numbers = []\n",
        "    for num in numbers:\n",
        "        if num not in unique_numbers:\n",
        "            unique_numbers.append(num)\n",
        "    return unique_numbers\n",
        "\n",
        "# Test the function\n",
        "nums = [1, 2, 3, 2, 1, 3, 2, 4, 5, 4]\n",
        "unique_nums = remove_duplicates(nums)\n",
        "print(unique_nums)"
      ],
      "metadata": {
        "colab": {
          "base_uri": "https://localhost:8080/"
        },
        "id": "87Kur-M9ktPm",
        "outputId": "3ccc899b-f169-421b-f9fe-94405e214587"
      },
      "execution_count": 14,
      "outputs": [
        {
          "output_type": "stream",
          "name": "stdout",
          "text": [
            "[1, 2, 3, 4, 5]\n"
          ]
        }
      ]
    },
    {
      "cell_type": "code",
      "source": [
        "#check if a number is even or odd.\n",
        "def is_even(number):\n",
        "  return number % 2 == 0\n",
        "number = 10\n",
        "if is_even(number):\n",
        "  print(f\"{number} is even.\")\n",
        "else:\n",
        "  print(f\"{number} is odd.\")"
      ],
      "metadata": {
        "colab": {
          "base_uri": "https://localhost:8080/"
        },
        "id": "Il9v4zn8k4Ye",
        "outputId": "ea39a274-956c-4e4f-9d6e-65a9c5b7f934"
      },
      "execution_count": 15,
      "outputs": [
        {
          "output_type": "stream",
          "name": "stdout",
          "text": [
            "10 is even.\n"
          ]
        }
      ]
    },
    {
      "cell_type": "code",
      "source": [
        "#Write a Python program to find the sum and average of elements in a list.\n",
        "numbers = [1, 2, 3, 4, 5]\n",
        "total_sum = sum(numbers)\n",
        "average = total_sum / len(numbers)\n",
        "print(f\"Sum: {total_sum}\")\n",
        "print(f\"Average: {average:.1f}\")  # Format average to two decimal places"
      ],
      "metadata": {
        "colab": {
          "base_uri": "https://localhost:8080/"
        },
        "id": "XuEge6Krl31t",
        "outputId": "1057b09b-7c64-4bcc-a978-a72ec536a94d"
      },
      "execution_count": 18,
      "outputs": [
        {
          "output_type": "stream",
          "name": "stdout",
          "text": [
            "Sum: 15\n",
            "Average: 3.0\n"
          ]
        }
      ]
    },
    {
      "cell_type": "code",
      "source": [
        "#check if a character is a vowel or consonant.\n",
        "def is_vowel(char):\n",
        "  vowels = \"aeiouAEIOU\"\n",
        "  return char in vowels\n",
        "character = input(\"Enter a character: \")\n",
        "if is_vowel(character):\n",
        "  print(f\"{character} is a vowel.\")\n",
        "else:\n",
        "  print(f\"{character} is a consonant.\")"
      ],
      "metadata": {
        "colab": {
          "base_uri": "https://localhost:8080/"
        },
        "id": "nszmqhZJmFs8",
        "outputId": "b21bce8b-a847-4c80-83fa-916c1bbbe088"
      },
      "execution_count": 21,
      "outputs": [
        {
          "output_type": "stream",
          "name": "stdout",
          "text": [
            "Enter a character: t\n",
            "t is a consonant.\n"
          ]
        }
      ]
    },
    {
      "cell_type": "code",
      "source": [
        "#Find the minimum and maximum elements in a list:\n",
        "numbers = [1, 5, 2, 8, 3]\n",
        "min_number = min(numbers)\n",
        "max_number = max(numbers)\n",
        "print(f\"Minimum: {min_number}\")\n",
        "\n",
        "print(f\"Maximum: {max_number}\")"
      ],
      "metadata": {
        "colab": {
          "base_uri": "https://localhost:8080/"
        },
        "id": "C2kfBDxNn1g4",
        "outputId": "e5e2d0af-0644-45ac-c2f8-d7163b5f747f"
      },
      "execution_count": 22,
      "outputs": [
        {
          "output_type": "stream",
          "name": "stdout",
          "text": [
            "Minimum: 1\n",
            "Maximum: 8\n"
          ]
        }
      ]
    },
    {
      "cell_type": "code",
      "source": [
        "#convert date which in string format to binary\n",
        "date=\"16-04-2002\"\n",
        "day,month,year=date.split('-')\n",
        "day=format(int(day),'b')\n",
        "month=format(int(month),'b')\n",
        "year=format(int(year),'b')\n",
        "binary_date = f\"{day}-{month}-{year}\"\n",
        "print(binary_date)\n",
        "\n"
      ],
      "metadata": {
        "colab": {
          "base_uri": "https://localhost:8080/"
        },
        "id": "L9So30F4nFye",
        "outputId": "8dfa3013-6057-4fe6-c068-1ffafa0cb6a4"
      },
      "execution_count": 23,
      "outputs": [
        {
          "output_type": "stream",
          "name": "stdout",
          "text": [
            "10000-100-11111010010\n"
          ]
        }
      ]
    },
    {
      "cell_type": "code",
      "source": [
        "#convert date which in string format to hexadecimal\n",
        "date=\"16-04-2002\"\n",
        "day,month,year=date.split('-')\n",
        "day=format(int(day),'x')\n",
        "month=format(int(month),'x')\n",
        "year=format(int(year),'x')\n",
        "binary_date = f\"{day}-{month}-{year}\"\n",
        "print(binary_date)"
      ],
      "metadata": {
        "colab": {
          "base_uri": "https://localhost:8080/"
        },
        "id": "JqwKna_ho-lu",
        "outputId": "e58fe65d-f99c-44b6-deda-457e1e83c35d"
      },
      "execution_count": 24,
      "outputs": [
        {
          "output_type": "stream",
          "name": "stdout",
          "text": [
            "10-4-7d2\n"
          ]
        }
      ]
    },
    {
      "cell_type": "code",
      "source": [],
      "metadata": {
        "id": "i8vPRjxBpOii"
      },
      "execution_count": null,
      "outputs": []
    }
  ]
}